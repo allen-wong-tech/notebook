{
  "nbformat": 4,
  "nbformat_minor": 0,
  "metadata": {
    "colab": {
      "name": "snowflake python demo.ipynb",
      "provenance": [],
      "collapsed_sections": [],
      "authorship_tag": "ABX9TyOBrsr3bkYhw0jnsGFDGRD0",
      "include_colab_link": true
    },
    "kernelspec": {
      "name": "python3",
      "display_name": "Python 3"
    },
    "language_info": {
      "name": "python"
    }
  },
  "cells": [
    {
      "cell_type": "markdown",
      "metadata": {
        "id": "view-in-github",
        "colab_type": "text"
      },
      "source": [
        "<a href=\"https://colab.research.google.com/github/allen-wong-tech/notebook/blob/main/snowflake_python_demo.ipynb\" target=\"_parent\"><img src=\"https://colab.research.google.com/assets/colab-badge.svg\" alt=\"Open In Colab\"/></a>"
      ]
    },
    {
      "cell_type": "code",
      "execution_count": null,
      "metadata": {
        "colab": {
          "base_uri": "https://localhost:8080/"
        },
        "id": "c1_rgt9ZgVQK",
        "outputId": "46f99139-6e84-458b-c2a5-4185f22695e3"
      },
      "outputs": [
        {
          "output_type": "stream",
          "name": "stdout",
          "text": [
            "Requirement already satisfied: snowflake-connector-python in /usr/local/lib/python3.7/dist-packages (2.7.6)\n",
            "Requirement already satisfied: cryptography<37.0.0,>=3.1.0 in /usr/local/lib/python3.7/dist-packages (from snowflake-connector-python) (36.0.2)\n",
            "Requirement already satisfied: asn1crypto<2.0.0,>0.24.0 in /usr/local/lib/python3.7/dist-packages (from snowflake-connector-python) (1.5.1)\n",
            "Requirement already satisfied: certifi>=2017.4.17 in /usr/local/lib/python3.7/dist-packages (from snowflake-connector-python) (2021.10.8)\n",
            "Requirement already satisfied: idna<4,>=2.5 in /usr/local/lib/python3.7/dist-packages (from snowflake-connector-python) (2.10)\n",
            "Requirement already satisfied: pycryptodomex!=3.5.0,<4.0.0,>=3.2 in /usr/local/lib/python3.7/dist-packages (from snowflake-connector-python) (3.14.1)\n",
            "Requirement already satisfied: pyOpenSSL<22.0.0,>=16.2.0 in /usr/local/lib/python3.7/dist-packages (from snowflake-connector-python) (21.0.0)\n",
            "Requirement already satisfied: charset-normalizer~=2.0.0 in /usr/local/lib/python3.7/dist-packages (from snowflake-connector-python) (2.0.12)\n",
            "Requirement already satisfied: pyjwt<3.0.0 in /usr/local/lib/python3.7/dist-packages (from snowflake-connector-python) (2.3.0)\n",
            "Requirement already satisfied: setuptools>34.0.0 in /usr/local/lib/python3.7/dist-packages (from snowflake-connector-python) (57.4.0)\n",
            "Requirement already satisfied: requests<3.0.0 in /usr/local/lib/python3.7/dist-packages (from snowflake-connector-python) (2.23.0)\n",
            "Requirement already satisfied: pytz in /usr/local/lib/python3.7/dist-packages (from snowflake-connector-python) (2018.9)\n",
            "Requirement already satisfied: oscrypto<2.0.0 in /usr/local/lib/python3.7/dist-packages (from snowflake-connector-python) (1.3.0)\n",
            "Requirement already satisfied: cffi<2.0.0,>=1.9 in /usr/local/lib/python3.7/dist-packages (from snowflake-connector-python) (1.15.0)\n",
            "Requirement already satisfied: pycparser in /usr/local/lib/python3.7/dist-packages (from cffi<2.0.0,>=1.9->snowflake-connector-python) (2.21)\n",
            "Requirement already satisfied: six>=1.5.2 in /usr/local/lib/python3.7/dist-packages (from pyOpenSSL<22.0.0,>=16.2.0->snowflake-connector-python) (1.15.0)\n",
            "Requirement already satisfied: urllib3!=1.25.0,!=1.25.1,<1.26,>=1.21.1 in /usr/local/lib/python3.7/dist-packages (from requests<3.0.0->snowflake-connector-python) (1.24.3)\n",
            "Requirement already satisfied: chardet<4,>=3.0.2 in /usr/local/lib/python3.7/dist-packages (from requests<3.0.0->snowflake-connector-python) (3.0.4)\n"
          ]
        }
      ],
      "source": [
        "# https://www.youtube.com/watch?v=11mdxhyZ94I\n",
        "!pip install snowflake-connector-python"
      ]
    },
    {
      "cell_type": "code",
      "source": [
        "import pandas as pd\n",
        "import numpy as np\n",
        "import matplotlib.pyplot as plt"
      ],
      "metadata": {
        "id": "DkNJB4gigv5v"
      },
      "execution_count": null,
      "outputs": []
    },
    {
      "cell_type": "code",
      "source": [
        "import getpass\n",
        "pwd = getpass.getpass(\"Enter password\")"
      ],
      "metadata": {
        "id": "i94XRV31hLC_"
      },
      "execution_count": null,
      "outputs": []
    },
    {
      "cell_type": "code",
      "source": [
        "import snowflake.connector\n",
        "conn = snowflake.connector.connect(user='JOHN',password=str(pwd),account='demo171')"
      ],
      "metadata": {
        "id": "sckPtD1yhYSR"
      },
      "execution_count": null,
      "outputs": []
    },
    {
      "cell_type": "code",
      "source": [
        "sql = 'select top 10000 * from snowflake_sample_data.tpch_sf1.lineitem'"
      ],
      "metadata": {
        "id": "xofhWcZYi50J"
      },
      "execution_count": null,
      "outputs": []
    },
    {
      "cell_type": "code",
      "source": [
        "res = conn.cursor().execute(sql).fetchall()"
      ],
      "metadata": {
        "id": "XkzUX8qsLK6F"
      },
      "execution_count": null,
      "outputs": []
    },
    {
      "cell_type": "code",
      "source": [
        "df = pd.read_sql(sql,conn)\n",
        "df.info()"
      ],
      "metadata": {
        "id": "oCftjhUgLgIe"
      },
      "execution_count": null,
      "outputs": []
    },
    {
      "cell_type": "code",
      "source": [
        "#count of shipmode\n",
        "df.groupby('L_SHIPMODE')[('L_SHIPINSTRUCT')].count()"
      ],
      "metadata": {
        "id": "1pW9b3G3MUkb"
      },
      "execution_count": null,
      "outputs": []
    },
    {
      "cell_type": "code",
      "source": [
        "# check if any nulls\n",
        "pd.isnull(df).any()"
      ],
      "metadata": {
        "id": "JQOqRvI7NLIZ"
      },
      "execution_count": null,
      "outputs": []
    },
    {
      "cell_type": "code",
      "source": [
        "# column statistics\n",
        "df['L_SHIPMODE'].describe()"
      ],
      "metadata": {
        "id": "9AdGtcoMNkwG"
      },
      "execution_count": null,
      "outputs": []
    },
    {
      "cell_type": "code",
      "source": [
        "%matplotlib inline\n",
        "ship_totals = df.groupby('L_SHIPMODE')[('L_SHIPINSTRUCT')].count()\n",
        "my_plot = ship_totals.plot(kind = 'bar')"
      ],
      "metadata": {
        "id": "FTHYB_RQN14a"
      },
      "execution_count": null,
      "outputs": []
    }
  ]
}